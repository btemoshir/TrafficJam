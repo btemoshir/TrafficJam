{
 "cells": [
  {
   "cell_type": "markdown",
   "metadata": {},
   "source": [
    "# WLR Equation using Finite Difference"
   ]
  },
  {
   "cell_type": "markdown",
   "metadata": {},
   "source": [
    "## Lax-Wendroff Scheme"
   ]
  },
  {
   "cell_type": "code",
   "execution_count": null,
   "metadata": {},
   "outputs": [],
   "source": [
    "import numpy as np\n",
    "import scipy as sc\n",
    "import matplotlib.pyplot as plt\n",
    "%matplotlib\n",
    "\n",
    "#Parameters\n",
    "Nx = 100\n",
    "Nt = 100\n",
    "L  = 1. # Total Length\n",
    "T  = 1. # Total intergration time\n",
    "dx = L/(Nx-1)\n",
    "dt = T/Nt\n",
    "\n",
    "#initial conditions:\n",
    "#Sin Wave\n",
    "p0 = 0.2 + 0.1*(np.sin(np.arange(0,2*np.pi,2*np.pi/Nx)))\n",
    "#Gaussian\n",
    "\n",
    "#constant and non-constant:\n",
    "#p0 = np.zeros(Nx)\n",
    "\n",
    "\n",
    "#plt.plot(p0)\n",
    "P = np.copy(p0)\n",
    "\n",
    "for i in np.arange(0,1,dt):\n",
    "    P += -(dt/(2*dx))*(1-2*P)*(np.roll(P,-1)-np.roll(P,1)) + (dt**2/(2*dx**2))*((1-2*P)**2)*(np.roll(P,-1) -2*P + np.roll(P,1))  \n",
    "    line, = plt.plot(P)\n",
    "    plt.draw()\n",
    "    plt.title('Time = ' + str(i) + ' Total Cars = ' + str(np.sum(P)))\n",
    "    plt.pause(0.01)\n",
    "    line.remove()\n",
    "plt.close()"
   ]
  },
  {
   "cell_type": "markdown",
   "metadata": {},
   "source": [
    "## Lax-Freidrich Scheme"
   ]
  },
  {
   "cell_type": "code",
   "execution_count": null,
   "metadata": {},
   "outputs": [],
   "source": [
    "L = np.copy(p0)\n",
    "T = 3\n",
    "for i in np.arange(0,T,dt):\n",
    "    L = -(dt/(2*dx))*(1-2*L)*(np.roll(L,-1)-np.roll(L,1)) + 0.5*(np.roll(L,-1)+np.roll(L,1))\n",
    "    line, = plt.plot(L)\n",
    "    plt.draw()\n",
    "    plt.title('Time = ' + str(i) + ' Total Cars = ' + str(np.sum(L)))\n",
    "    plt.pause(0.01)\n",
    "    line.remove()\n",
    "plt.close()"
   ]
  },
  {
   "cell_type": "markdown",
   "metadata": {},
   "source": [
    "#### Explaination:\n",
    "Lax Wendroff is a dipersive scheme, we are loosing cars (actually gaining cars). Once the schock has formed, we should just get a propogation of the schock at a constant velocity.\n",
    "\n",
    "But for Lax Freidrich, it is a dipersive scheme. We form a schock but we would observe that the shock starts to dissappear because the scheme is dispersive, the cars disperse and flattern the schock out. This should not happen."
   ]
  },
  {
   "cell_type": "code",
   "execution_count": null,
   "metadata": {
    "collapsed": true
   },
   "outputs": [],
   "source": []
  }
 ],
 "metadata": {
  "anaconda-cloud": {},
  "kernelspec": {
   "display_name": "Python 3",
   "language": "python",
   "name": "python3"
  },
  "language_info": {
   "codemirror_mode": {
    "name": "ipython",
    "version": 3
   },
   "file_extension": ".py",
   "mimetype": "text/x-python",
   "name": "python",
   "nbconvert_exporter": "python",
   "pygments_lexer": "ipython3",
   "version": "3.6.3"
  }
 },
 "nbformat": 4,
 "nbformat_minor": 2
}
