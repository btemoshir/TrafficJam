{
 "cells": [
  {
   "cell_type": "markdown",
   "metadata": {},
   "source": [
    "# Lagrange Method to solve the WLR Equation"
   ]
  },
  {
   "cell_type": "markdown",
   "metadata": {},
   "source": [
    "This method uses the total derivative of each point (points being sampled from the initial conditions) to calculate how much each point moves in space per unit time.\n",
    "\n",
    "In dt time, each point moves a distance = vdt where velocity for WLR equation = $1-2\\rho$. This perfectly works up until the shock point an dit exact but after the schock it becomes unphysical."
   ]
  },
  {
   "cell_type": "code",
   "execution_count": 2,
   "metadata": {},
   "outputs": [
    {
     "name": "stdout",
     "output_type": "stream",
     "text": [
      "Using matplotlib backend: Qt5Agg\n"
     ]
    }
   ],
   "source": [
    "import numpy as np\n",
    "import scipy as sc\n",
    "import matplotlib.pyplot as plt\n",
    "%matplotlib\n",
    "\n",
    "#Parameters\n",
    "Nx = 100\n",
    "Nt = 100\n",
    "L  = 1. # Total Length\n",
    "T  = 5. # Total intergration time\n",
    "dx = L/(Nx-1)\n",
    "dt = T/Nt\n",
    "\n",
    "\n",
    "#initial conditions:\n",
    "#Sin Wave\n",
    "p0 = 0.2 + 0.1*(np.sin(np.arange(0,2*np.pi,2*np.pi/Nx)))\n",
    "x0 = np.arange(0,2*np.pi,2*np.pi/Nx)\n",
    "#Gaussian\n",
    "\n",
    "#constant and non-constant:\n",
    "#p0 = np.zeros(Nx)\n",
    "\n",
    "#plt.plot(p0)\n",
    "P = np.copy(p0)\n",
    "X = np.copy(x0)\n",
    "T = 20\n",
    "for i in np.arange(0,T,dt):\n",
    "    X = np.mod(X + (1-2*P)*dt, 2*np.pi)\n",
    "    line, = plt.plot(X,P,'ro')\n",
    "    plt.draw()\n",
    "    plt.title('Time = ' + str(i) + ' Total Cars = ' + str(np.sum(P)))\n",
    "    plt.pause(0.01)\n",
    "    line.remove()\n",
    "plt.close()"
   ]
  },
  {
   "cell_type": "code",
   "execution_count": null,
   "metadata": {
    "collapsed": true
   },
   "outputs": [],
   "source": []
  }
 ],
 "metadata": {
  "anaconda-cloud": {},
  "kernelspec": {
   "display_name": "Python 3",
   "language": "python",
   "name": "python3"
  },
  "language_info": {
   "codemirror_mode": {
    "name": "ipython",
    "version": 3
   },
   "file_extension": ".py",
   "mimetype": "text/x-python",
   "name": "python",
   "nbconvert_exporter": "python",
   "pygments_lexer": "ipython3",
   "version": "3.6.3"
  }
 },
 "nbformat": 4,
 "nbformat_minor": 2
}
