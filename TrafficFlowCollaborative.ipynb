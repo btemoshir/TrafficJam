{
 "cells": [
  {
   "cell_type": "markdown",
   "metadata": {},
   "source": [
    "# Traffic Flow with PDEs"
   ]
  },
  {
   "cell_type": "markdown",
   "metadata": {},
   "source": [
    "#### <font color='gray'>Authors: Rob Hesselink(rob.hesselink@ens.fr) and Moshir Harsh (moshir.harsh@ens.fr)</font>"
   ]
  },
  {
   "cell_type": "markdown",
   "metadata": {
    "collapsed": true
   },
   "source": [
    "In this project we try to model a traffic flow on a one dimensional road with periodic boundary conditions which is essentially a circular road.\n",
    "\n",
    "We use the following equation called the WLR Equation:\n",
    "\n",
    "$$ \\frac{\\partial \\rho}{\\partial t} + \\frac{\\partial}{\\partial x}\\left( v_0 \\left(1-\\frac{\\rho}{\\rho_0}\\right)\\rho \\right) = 0 $$\n",
    "\n",
    "where $v_0$ and $\\rho_0$ are the parameters which are set to one without loss of generality. So the equation becomes:\n",
    "\n",
    "$$ \\frac{\\partial \\rho}{\\partial t} + \\frac{\\partial}{\\partial x}\\left(\\left(1-\\rho\\right)\\rho \\right) = 0 $$\n",
    "\n",
    "This equation can also be written as:\n",
    "\n",
    "$$ \\frac{\\partial \\rho}{\\partial t} + \\left(1-2\\rho\\right)\\frac{\\partial}{\\partial x} = 0 $$\n",
    "\n",
    "This equation is known to form shocks (traffic jams) and is like the Burger's equation with the velocity which depends on density instead of being constant.\n",
    "\n",
    "We simulate the solution to this equation using different schemes and compare our results. We also discuss the dispersive and/or the disspipative nature of these schemes."
   ]
  },
  {
   "cell_type": "code",
   "execution_count": 20,
   "metadata": {},
   "outputs": [
    {
     "ename": "RuntimeError",
     "evalue": "No MovieWriters available!",
     "output_type": "error",
     "traceback": [
      "\u001b[1;31m---------------------------------------------------------------------------\u001b[0m",
      "\u001b[1;31mRuntimeError\u001b[0m                              Traceback (most recent call last)",
      "\u001b[1;32m<ipython-input-20-99b275a12765>\u001b[0m in \u001b[0;36m<module>\u001b[1;34m()\u001b[0m\n\u001b[0;32m     52\u001b[0m \u001b[1;31m# equivalent to rcParams['animation.html'] = 'html5'\u001b[0m\u001b[1;33m\u001b[0m\u001b[1;33m\u001b[0m\u001b[0m\n\u001b[0;32m     53\u001b[0m \u001b[0mrc\u001b[0m\u001b[1;33m(\u001b[0m\u001b[1;34m'animation'\u001b[0m\u001b[1;33m,\u001b[0m \u001b[0mhtml\u001b[0m\u001b[1;33m=\u001b[0m\u001b[1;34m'html5'\u001b[0m\u001b[1;33m)\u001b[0m\u001b[1;33m\u001b[0m\u001b[0m\n\u001b[1;32m---> 54\u001b[1;33m \u001b[0mHTML\u001b[0m\u001b[1;33m(\u001b[0m\u001b[0manim\u001b[0m\u001b[1;33m.\u001b[0m\u001b[0mto_html5_video\u001b[0m\u001b[1;33m(\u001b[0m\u001b[1;33m)\u001b[0m\u001b[1;33m)\u001b[0m\u001b[1;33m\u001b[0m\u001b[0m\n\u001b[0m\u001b[0;32m     55\u001b[0m \u001b[0manim\u001b[0m\u001b[1;33m\u001b[0m\u001b[0m\n",
      "\u001b[1;32m~\\Anaconda3\\lib\\site-packages\\matplotlib\\animation.py\u001b[0m in \u001b[0;36mto_html5_video\u001b[1;34m(self)\u001b[0m\n\u001b[0;32m   1203\u001b[0m                 \u001b[1;31m# We create a writer manually so that we can get the\u001b[0m\u001b[1;33m\u001b[0m\u001b[1;33m\u001b[0m\u001b[0m\n\u001b[0;32m   1204\u001b[0m                 \u001b[1;31m# appropriate size for the tag\u001b[0m\u001b[1;33m\u001b[0m\u001b[1;33m\u001b[0m\u001b[0m\n\u001b[1;32m-> 1205\u001b[1;33m                 \u001b[0mWriter\u001b[0m \u001b[1;33m=\u001b[0m \u001b[0mwriters\u001b[0m\u001b[1;33m[\u001b[0m\u001b[0mrcParams\u001b[0m\u001b[1;33m[\u001b[0m\u001b[1;34m'animation.writer'\u001b[0m\u001b[1;33m]\u001b[0m\u001b[1;33m]\u001b[0m\u001b[1;33m\u001b[0m\u001b[0m\n\u001b[0m\u001b[0;32m   1206\u001b[0m                 writer = Writer(codec='h264',\n\u001b[0;32m   1207\u001b[0m                                 \u001b[0mbitrate\u001b[0m\u001b[1;33m=\u001b[0m\u001b[0mrcParams\u001b[0m\u001b[1;33m[\u001b[0m\u001b[1;34m'animation.bitrate'\u001b[0m\u001b[1;33m]\u001b[0m\u001b[1;33m,\u001b[0m\u001b[1;33m\u001b[0m\u001b[0m\n",
      "\u001b[1;32m~\\Anaconda3\\lib\\site-packages\\matplotlib\\animation.py\u001b[0m in \u001b[0;36m__getitem__\u001b[1;34m(self, name)\u001b[0m\n\u001b[0;32m    157\u001b[0m         \u001b[0mself\u001b[0m\u001b[1;33m.\u001b[0m\u001b[0mensure_not_dirty\u001b[0m\u001b[1;33m(\u001b[0m\u001b[1;33m)\u001b[0m\u001b[1;33m\u001b[0m\u001b[0m\n\u001b[0;32m    158\u001b[0m         \u001b[1;32mif\u001b[0m \u001b[1;32mnot\u001b[0m \u001b[0mself\u001b[0m\u001b[1;33m.\u001b[0m\u001b[0mavail\u001b[0m\u001b[1;33m:\u001b[0m\u001b[1;33m\u001b[0m\u001b[0m\n\u001b[1;32m--> 159\u001b[1;33m             \u001b[1;32mraise\u001b[0m \u001b[0mRuntimeError\u001b[0m\u001b[1;33m(\u001b[0m\u001b[1;34m\"No MovieWriters available!\"\u001b[0m\u001b[1;33m)\u001b[0m\u001b[1;33m\u001b[0m\u001b[0m\n\u001b[0m\u001b[0;32m    160\u001b[0m         \u001b[1;32mreturn\u001b[0m \u001b[0mself\u001b[0m\u001b[1;33m.\u001b[0m\u001b[0mavail\u001b[0m\u001b[1;33m[\u001b[0m\u001b[0mname\u001b[0m\u001b[1;33m]\u001b[0m\u001b[1;33m\u001b[0m\u001b[0m\n\u001b[0;32m    161\u001b[0m \u001b[1;33m\u001b[0m\u001b[0m\n",
      "\u001b[1;31mRuntimeError\u001b[0m: No MovieWriters available!"
     ]
    },
    {
     "data": {
      "image/png": "[encoded data removed]",
      "text/plain": [
       "<matplotlib.figure.Figure at 0x2092932cb70>"
      ]
     },
     "metadata": {},
     "output_type": "display_data"
    }
   ],
   "source": [
    "# UNIVERSAL (ALWAYS RUN FIRST)\n",
    "\n",
    "#Importing Packages\n",
    "import numpy as np\n",
    "import scipy as sc\n",
    "import matplotlib.pyplot as plt\n",
    "%matplotlib inline\n",
    "from matplotlib import animation, rc\n",
    "from IPython.display import HTML\n",
    "\n",
    "#Parameters:\n",
    "Nx = 100 \n",
    "Nt = 100\n",
    "L  = 1. # Total Length\n",
    "T  = 1. # Total intergration time\n",
    "dx = L/(Nx-1)\n",
    "dt = T/Nt\n",
    "\n",
    "#Initial Conditions: Here we define various initial consitions, only uncomment the one to be used.\n",
    "\n",
    "#Sin Wave\n",
    "p0 = 0.2 + 0.1*(np.sin(np.arange(0,2*np.pi,2*np.pi/Nx)))\n",
    "x0 = np.arange(0,2*np.pi,2*np.pi/Nx)\n",
    "\n",
    "#Gaussian\n",
    "\n",
    "\n",
    "#constant and non-constant:\n",
    "#p0 = np.zeros(Nx)\n",
    "\n",
    "# First set up the figure, the axis, and the plot element we want to animate\n",
    "fig, ax = plt.subplots()\n",
    "\n",
    "ax.set_xlim((0, L))\n",
    "ax.set_ylim((0, 1))\n",
    "line, = ax.plot([], [], lw=2)\n",
    "\n",
    "# initialization function: plot the background of each frame\n",
    "def init():\n",
    "    line.set_data([], [])\n",
    "    return (line,)\n",
    "\n",
    "def animate(i):\n",
    "    x = np.linspace(0, 2, 1000)\n",
    "    y = np.sin(2 * np.pi * (x - 0.01 * i))\n",
    "    line.set_data(x, y)\n",
    "    return (line,)\n",
    "\n",
    "# call the animator. blit=True means only re-draw the parts that have changed.\n",
    "anim = animation.FuncAnimation(fig, animate, init_func=init,\n",
    "                               frames=100, interval=20, blit=True)\n",
    "# equivalent to rcParams['animation.html'] = 'html5'\n",
    "rc('animation', html='html5')\n",
    "HTML(anim.to_html5_video())\n",
    "anim"
   ]
  },
  {
   "cell_type": "markdown",
   "metadata": {},
   "source": [
    "## Finite Element Methods"
   ]
  },
  {
   "cell_type": "markdown",
   "metadata": {},
   "source": [
    "### Lax-Wendroff Finite Element Scheme"
   ]
  },
  {
   "cell_type": "code",
   "execution_count": 13,
   "metadata": {},
   "outputs": [],
   "source": [
    "def LWFE(Nx=Nx,Nt=Nt,dx=dx,dt=dt,L=L,T=T,p0=p0):\n",
    "\n",
    "    P = np.copy(p0)\n",
    "    S = np.zeros((Nx,Nt))\n",
    "    \n",
    "    for i in np.arange(0,T,dt):\n",
    "        P += -(dt/(2*dx))*(1-2*P)*(np.roll(P,-1)-np.roll(P,1)) \\\\\n",
    "        + (dt**2/(2*dx**2))*((1-2*P)**2)*(np.roll(P,-1) -2*P + np.roll(P,1))  \n",
    "        S[int(i/dt),:] = P \n",
    "        line, = plt.plot(P)\n",
    "        plt.draw()\n",
    "        plt.title('Time = ' + str(i) + ' Total Cars = ' + str(np.sum(P)))\n",
    "        plt.pause(0.01)\n",
    "        line.remove()\n",
    "    plt.close()\n",
    "    return S"
   ]
  },
  {
   "cell_type": "markdown",
   "metadata": {},
   "source": [
    "### Lax-Freidrich Finite Element Scheme"
   ]
  },
  {
   "cell_type": "code",
   "execution_count": null,
   "metadata": {
    "collapsed": true
   },
   "outputs": [],
   "source": [
    "def LFFE(Nx=Nx,Nt=Nt,dx=dx,dt=dt,L=L,T=T,p0=p0):\n",
    "    \n",
    "    L = np.copy(p0)\n",
    "    S = np.zeros((Nx,Nt))\n",
    "    \n",
    "    for i in np.arange(0,T,dt):\n",
    "        L = -(dt/(2*dx))*(1-2*L)*(np.roll(L,-1)-np.roll(L,1)) + 0.5*(np.roll(L,-1)+np.roll(L,1))\n",
    "        S[int(i/dt),:] = L\n",
    "        line, = plt.plot(L)\n",
    "        plt.draw()\n",
    "        plt.title('Time = ' + str(i) + ' Total Cars = ' + str(np.sum(L)))\n",
    "        plt.pause(0.01)\n",
    "        line.remove()\n",
    "    plt.close()\n",
    "    return S"
   ]
  },
  {
   "cell_type": "markdown",
   "metadata": {},
   "source": [
    "##### Explaination:\n",
    "Lax Wendroff is a dipersive scheme, we are loosing cars (actually gaining cars). Once the schock has formed, we should just get a propogation of the schock at a constant velocity.\n",
    "But for Lax Freidrich, it is a dipersive scheme. We form a schock but we would observe that the shock starts to dissappear because the scheme is dispersive, the cars disperse and flattern the schock out. This should not happen."
   ]
  },
  {
   "cell_type": "markdown",
   "metadata": {},
   "source": [
    "## Finite Volume Methods"
   ]
  },
  {
   "cell_type": "markdown",
   "metadata": {},
   "source": [
    "### Lax-Wendroff Finite Volumes"
   ]
  },
  {
   "cell_type": "markdown",
   "metadata": {},
   "source": [
    "$$ u_{{i+1/2}}^{{n+1/2}}={\\frac  {1}{2}}(u_{{i+1}}^{n}+u_{{i}}^{n})-{\\frac  {\\Delta t}{2\\,\\Delta x}}(f(u_{{i+1}}^{n})-f(u_{{i}}^{n})) $$\n",
    "\n",
    "$$ u_{{i-1/2}}^{{n+1/2}}={\\frac  {1}{2}}(u_{{i}}^{n}+u_{{i-1}}^{n})-{\\frac  {\\Delta t}{2\\,\\Delta x}}(f(u_{{i}}^{n})-f(u_{{i-1}}^{n})) $$\n",
    "\n",
    "$$ u_{i}^{{n+1}}=u_{i}^{n}-{\\frac  {\\Delta t}{\\Delta x}}\\left[f(u_{{i+1/2}}^{{n+1/2}})-f(u_{{i-1/2}}^{{n+1/2}})\\right] $$"
   ]
  },
  {
   "cell_type": "code",
   "execution_count": null,
   "metadata": {
    "collapsed": true
   },
   "outputs": [],
   "source": [
    "def LWFV(Nx=Nx,Nt=Nt,dx=dx,dt=dt,L=L,T=T,p0=p0):\n",
    "    P = np.copy(p0)\n",
    "    S = np.zeros((Nx,Nt))\n",
    "    \n",
    "    for i in np.arange(0,T,dt):\n",
    "        f = (1-P)*P\n",
    "        Uplus = 0.5*(np.roll(P,-1)+P) - (dt/(2*dx))*(np.roll(f,-1)-f)\n",
    "        Uminus = 0.5*(np.roll(P,1)+P) - (dt/(2*dx))*(-np.roll(f,1)+f)\n",
    "        P += -(dt/dx)*((1-Uplus)*Uplus - (1-Uminus)*Uminus)\n",
    "        S[int(i/dt),:] = P\n",
    "        line, = plt.plot(P)\n",
    "        plt.draw()\n",
    "        plt.title('Time = ' + str(i) + ' Total Cars = ' + str(np.sum(P)))\n",
    "        plt.pause(0.01)\n",
    "        line.remove()\n",
    "    plt.close()\n",
    "    return S"
   ]
  },
  {
   "cell_type": "markdown",
   "metadata": {},
   "source": [
    "### Lax-Freidrich Finite Volumes Scheme"
   ]
  },
  {
   "cell_type": "markdown",
   "metadata": {},
   "source": [
    " $$ u_i^{n+1} = u^n_i - \\frac{\\Delta t}{ \\Delta x} \\left( \\hat{f}^n_{i+1/2} - \\hat{f}^n_{i-1/2} \\right) $$\n",
    " \n",
    "$$ {\\displaystyle {\\hat {f}}_{i-1/2}^{n}={\\frac {1}{2}}\\left(f_{i-1}+f_{i}\\right)-{\\frac {\\Delta x}{2\\Delta t}}\\left(u_{i}^{n}-u_{i-1}^{n}\\right).}  \\hat{f}^n_{i-1/2} = \\frac{1}{2} \\left( f_{i-1} + f_{i} \\right) - \\frac{ \\Delta x}{ 2 \\Delta t  } \\left( u^n_{i} - u^n_{i-1} \\right) $$ "
   ]
  },
  {
   "cell_type": "code",
   "execution_count": null,
   "metadata": {
    "collapsed": true
   },
   "outputs": [],
   "source": [
    "def LFFV(Nx=Nx,Nt=Nt,dx=dx,dt=dt,L=L,T=T,p0=p0):\n",
    "    P = np.copy(p0)\n",
    "    S = np.zeros((Nx,Nt))\n",
    "    \n",
    "    for i in np.arange(0,T,dt):\n",
    "        f = (1.-P)*P\n",
    "        P += -(dt/dx)*((0.5*(np.roll(f,-1)+f)-(dt/(2*dx))*(np.roll(P,-1)-P))-\\\\\n",
    "                       (0.5*(np.roll(f,1)+f)-(dt/(2*dx))*(P-np.roll(P,1)))) \n",
    "        S[int(i/dt),:] = P\n",
    "        line, = plt.plot(P)\n",
    "        plt.draw()\n",
    "        plt.title('Time = ' + str(i) + ' Total Cars = ' + str(np.sum(P)))\n",
    "        plt.pause(0.01)\n",
    "        line.remove()\n",
    "    plt.close()\n",
    "    return S"
   ]
  },
  {
   "cell_type": "markdown",
   "metadata": {},
   "source": [
    "## Gudonov Method"
   ]
  },
  {
   "cell_type": "markdown",
   "metadata": {},
   "source": [
    "## An Exact Numerical Solution by The Lagrange Method "
   ]
  },
  {
   "cell_type": "markdown",
   "metadata": {},
   "source": [
    "This method uses the total derivative of each point (points being sampled from the initial conditions) to calculate how much each point moves in space per unit time.\n",
    "\n",
    "In dt time, each point moves a distance = vdt where velocity for WLR equation = $1-2\\rho$. This perfectly works up until the shock point an dit exact but after the schock it becomes unphysical."
   ]
  },
  {
   "cell_type": "code",
   "execution_count": 16,
   "metadata": {},
   "outputs": [],
   "source": [
    "def Lagrange(Nx=Nx,Nt=Nt,dx=dx,dt=dt,L=L,T=T,p0=p0):\n",
    "    #initial conditions:\n",
    "    #Sin Wave\n",
    "    p0 = 0.2 + 0.1*(np.sin(np.arange(0,2*np.pi,2*np.pi/Nx)))\n",
    "    x0 = np.arange(0,2*np.pi,2*np.pi/Nx)\n",
    "    \n",
    "    P = np.copy(p0)\n",
    "    X = np.copy(x0)\n",
    "    S = np.zeros((Nx,Nt))\n",
    "    for i in np.arange(0,T,dt):\n",
    "        X = np.mod(X + (1-2*P)*dt, 2*np.pi)\n",
    "        S[int(i/dt),:] = X \n",
    "        line, = plt.plot(X,P,'ro')\n",
    "        plt.draw()\n",
    "        plt.title('Time = ' + str(i) + ' Total Cars = ' + str(np.sum(P)))\n",
    "        plt.pause(0.01)\n",
    "        line.remove()\n",
    "    plt.close()\n",
    "    return S\n",
    "\n",
    "# print(Lagrange())"
   ]
  },
  {
   "cell_type": "code",
   "execution_count": null,
   "metadata": {
    "collapsed": true
   },
   "outputs": [],
   "source": []
  }
 ],
 "metadata": {
  "kernelspec": {
   "display_name": "Python [conda root]",
   "language": "python",
   "name": "conda-root-py"
  },
  "language_info": {
   "codemirror_mode": {
    "name": "ipython",
    "version": 3
   },
   "file_extension": ".py",
   "mimetype": "text/x-python",
   "name": "python",
   "nbconvert_exporter": "python",
   "pygments_lexer": "ipython3",
   "version": "3.5.4"
  }
 },
 "nbformat": 4,
 "nbformat_minor": 2
}
